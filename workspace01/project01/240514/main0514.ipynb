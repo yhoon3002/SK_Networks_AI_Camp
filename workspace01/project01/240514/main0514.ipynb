{
 "cells": [
  {
   "cell_type": "markdown",
   "metadata": {},
   "source": [
    "## operator.itemgetter 함수"
   ]
  },
  {
   "cell_type": "code",
   "execution_count": 2,
   "metadata": {},
   "outputs": [
    {
     "data": {
      "text/plain": [
       "{'제목': '혼자 공부하는 파이썬', '가격': 18000}"
      ]
     },
     "execution_count": 2,
     "metadata": {},
     "output_type": "execute_result"
    }
   ],
   "source": [
    "books = [{\n",
    "    \"제목\": \"혼자 공부하는 파이썬\",\n",
    "    \"가격\": 18000\n",
    "}, {\n",
    "    \"제목\": \"혼자 공부하는 머신러닝 + 딥러닝\",\n",
    "    \"가격\": 26000\n",
    "}, {\n",
    "    \"제목\": \"혼자 공부하는 자바스크립트\",\n",
    "    \"가격\": 24000\n",
    "}]\n",
    "\n",
    "def price_extraction(book):\n",
    "    return book[\"가격\"]\n",
    "\n",
    "min(books, key=price_extraction)\n",
    "min(books, key=lambda book: book[\"가격\"])"
   ]
  },
  {
   "cell_type": "code",
   "execution_count": 3,
   "metadata": {},
   "outputs": [
    {
     "data": {
      "text/plain": [
       "{'제목': '혼자 공부하는 파이썬', '가격': 18000}"
      ]
     },
     "execution_count": 3,
     "metadata": {},
     "output_type": "execute_result"
    }
   ],
   "source": [
    "from operator import itemgetter\n",
    "\n",
    "books = [{\n",
    "    \"제목\": \"혼자 공부하는 파이썬\",\n",
    "    \"가격\": 18000\n",
    "}, {\n",
    "    \"제목\": \"혼자 공부하는 머신러닝 + 딥러닝\",\n",
    "    \"가격\": 26000\n",
    "}, {\n",
    "    \"제목\": \"혼자 공부하는 자바스크립트\",\n",
    "    \"가격\": 24000\n",
    "}]\n",
    "\n",
    "min(books, key=itemgetter(\"가격\"))"
   ]
  },
  {
   "cell_type": "markdown",
   "metadata": {},
   "source": [
    "## OS 모듈 파일과 디렉토리 다루는 정리"
   ]
  },
  {
   "cell_type": "markdown",
   "metadata": {},
   "source": [
    "### 현재 디렉토리를 읽어 들이고 파일인지 디렉토리인지 구분하기"
   ]
  },
  {
   "cell_type": "code",
   "execution_count": 4,
   "metadata": {},
   "outputs": [
    {
     "name": "stdout",
     "output_type": "stream",
     "text": [
      "===> ['main0513.py', '2024-05-09.txt', '2024-05-08.txt', '.DS_Store', 'main0524.ipynb', 'main0508_2.py', 'interactive.ipynb', 'main0509.py', '__pycache__', 'syspath.py', '2024-05-14.txt', 'main0508_1.py', 'b64', 'helpers', 'main0510.py', '2024-05-10.txt', '2024-05-13.txt']\n",
      "(파일) main0513.py\n",
      "(파일) 2024-05-09.txt\n",
      "(파일) 2024-05-08.txt\n",
      "(파일) .DS_Store\n",
      "(파일) main0524.ipynb\n",
      "(파일) main0508_2.py\n",
      "(파일) interactive.ipynb\n",
      "(파일) main0509.py\n",
      "(폴더) __pycache__\n",
      "(파일) syspath.py\n",
      "(파일) 2024-05-14.txt\n",
      "(파일) main0508_1.py\n",
      "(폴더) b64\n",
      "(폴더) helpers\n",
      "(파일) main0510.py\n",
      "(파일) 2024-05-10.txt\n",
      "(파일) 2024-05-13.txt\n"
     ]
    }
   ],
   "source": [
    "import os\n",
    "\n",
    "_output = os.listdir(\".\")\n",
    "print(\"===>\", _output)\n",
    "\n",
    "for path in _output:\n",
    "    if os.path.isdir(path):\n",
    "        print(\"(폴더)\", path)\n",
    "    else:\n",
    "        print(\"(파일)\", path)"
   ]
  },
  {
   "cell_type": "markdown",
   "metadata": {},
   "source": [
    "### 현재 경로 확인"
   ]
  },
  {
   "cell_type": "code",
   "execution_count": 9,
   "metadata": {},
   "outputs": [
    {
     "name": "stdout",
     "output_type": "stream",
     "text": [
      "/Users/lim_younghoon/Desktop/SK_Networks_AI/workspace01/project01\n"
     ]
    }
   ],
   "source": [
    "import os\n",
    "\n",
    "# 현재 경로 조회, 작업 디렉토리 기준\n",
    "print(os.getcwd())\n",
    "\n",
    "# 현재 파일의 디렉토리 경로. 작업 파일 기준\n",
    "print(os.path.dirname(os.path.realpath(__file__)))\n",
    "\n"
   ]
  },
  {
   "cell_type": "markdown",
   "metadata": {},
   "source": [
    "### 디렉토리 변경"
   ]
  },
  {
   "cell_type": "code",
   "execution_count": null,
   "metadata": {},
   "outputs": [],
   "source": [
    "import os\n",
    "\n",
    "os.chdir(\"../\")"
   ]
  },
  {
   "cell_type": "markdown",
   "metadata": {},
   "source": [
    "### 현재 폴더의 디렉토리 및 파일 리스트 확인"
   ]
  },
  {
   "cell_type": "code",
   "execution_count": 13,
   "metadata": {},
   "outputs": [
    {
     "name": "stdout",
     "output_type": "stream",
     "text": [
      "['main0513.py', '2024-05-09.txt', '2024-05-08.txt', '.DS_Store', 'main0524.ipynb', 'main0508_2.py', 'interactive.ipynb', 'main0509.py', '__pycache__', 'syspath.py', '2024-05-14.txt', 'main0508_1.py', 'b64', 'helpers', 'main0510.py', '2024-05-10.txt', '2024-05-13.txt']\n"
     ]
    }
   ],
   "source": [
    "import os\n",
    "\n",
    "_files = os.listdir()\n",
    "\n",
    "print(_files)"
   ]
  },
  {
   "cell_type": "markdown",
   "metadata": {},
   "source": [
    "### 파일명 제외하고 경로만 가져오기"
   ]
  },
  {
   "cell_type": "code",
   "execution_count": 14,
   "metadata": {},
   "outputs": [
    {
     "name": "stdout",
     "output_type": "stream",
     "text": [
      "/Users/lim_younghoon/Desktop/SK_Networks_AI/workspace01/project01\n"
     ]
    }
   ],
   "source": [
    "import os\n",
    "\n",
    "_dirName = os.path.dirname(\"/Users/lim_younghoon/Desktop/SK_Networks_AI/workspace01/project01/main0524.ipynb\")\n",
    "\n",
    "print(_dirName)"
   ]
  },
  {
   "cell_type": "markdown",
   "metadata": {},
   "source": [
    "### 경로 제외하고 파일명만 가져오기"
   ]
  },
  {
   "cell_type": "code",
   "execution_count": 15,
   "metadata": {},
   "outputs": [
    {
     "name": "stdout",
     "output_type": "stream",
     "text": [
      "main0524.ipynb\n"
     ]
    }
   ],
   "source": [
    "import os\n",
    "\n",
    "_fileName = os.path.basename(\"/Users/lim_younghoon/Desktop/SK_Networks_AI/workspace01/project01/main0524.ipynb\")\n",
    "\n",
    "print(_fileName)"
   ]
  },
  {
   "cell_type": "markdown",
   "metadata": {},
   "source": [
    "### 파일/디렉토리 여부 확인"
   ]
  },
  {
   "cell_type": "code",
   "execution_count": 17,
   "metadata": {},
   "outputs": [
    {
     "name": "stdout",
     "output_type": "stream",
     "text": [
      "Is it file path ? ===> True\n",
      "Is it dir path ? ===> False\n"
     ]
    }
   ],
   "source": [
    "import os\n",
    "\n",
    "# 해당 경로가 파일인지 확인\n",
    "# 파일이면 True, 아니면 False로 변환\n",
    "_isFile = os.path.isfile(\"/Users/lim_younghoon/Desktop/SK_Networks_AI/workspace01/project01/main0524.ipynb\")\n",
    "\n",
    "print(\"Is it file path ? ===>\", _isFile)\n",
    "\n",
    "# 해당 경로가 디렉토리인지 확인\n",
    "# 디렉토리이면 True, 아니면 False 반환\n",
    "_isDir = os.path.isdir(\"/Users/lim_younghoon/Desktop/SK_Networks_AI/workspace01/project01/main0524.ipynb\")\n",
    "\n",
    "print(\"Is it dir path ? ===>\", _isDir)"
   ]
  },
  {
   "cell_type": "markdown",
   "metadata": {},
   "source": [
    "### 디렉토리와 파일명 분리"
   ]
  },
  {
   "cell_type": "code",
   "execution_count": 18,
   "metadata": {},
   "outputs": [
    {
     "name": "stdout",
     "output_type": "stream",
     "text": [
      "/Users/lim_younghoon/Desktop/SK_Networks_AI/workspace01/project01\n",
      "main0524.ipynb\n"
     ]
    }
   ],
   "source": [
    "import os\n",
    "\n",
    "_dirPath, _fileName = os.path.split(\"/Users/lim_younghoon/Desktop/SK_Networks_AI/workspace01/project01/main0524.ipynb\")\n",
    "\n",
    "print(_dirPath)\n",
    "print(_fileName)"
   ]
  },
  {
   "cell_type": "markdown",
   "metadata": {},
   "source": [
    "### 파일/디렉토리 존재 유무 확인"
   ]
  },
  {
   "cell_type": "code",
   "execution_count": 19,
   "metadata": {},
   "outputs": [
    {
     "name": "stdout",
     "output_type": "stream",
     "text": [
      "True\n"
     ]
    }
   ],
   "source": [
    "import os\n",
    "\n",
    "_exist = os.path.exists(\"/Users/lim_younghoon/Desktop/SK_Networks_AI/workspace01/project01/main0524.ipynb\")\n",
    "\n",
    "print(_exist)"
   ]
  },
  {
   "cell_type": "markdown",
   "metadata": {},
   "source": [
    "### 파일 크기 체크 "
   ]
  },
  {
   "cell_type": "code",
   "execution_count": 20,
   "metadata": {},
   "outputs": [
    {
     "name": "stdout",
     "output_type": "stream",
     "text": [
      "9218\n"
     ]
    }
   ],
   "source": [
    "import os\n",
    "\n",
    "_size = os.path.getsize(\"/Users/lim_younghoon/Desktop/SK_Networks_AI/workspace01/project01/main0524.ipynb\")\n",
    "\n",
    "print(_size)"
   ]
  },
  {
   "cell_type": "markdown",
   "metadata": {},
   "source": [
    "### 파일 또는 경로를 합치는 방법 "
   ]
  },
  {
   "cell_type": "code",
   "execution_count": 21,
   "metadata": {},
   "outputs": [
    {
     "name": "stdout",
     "output_type": "stream",
     "text": [
      "/Users/lim_younghoon/Desktop/SK_Networks_AI/workspace01/project01/main0524.ipynb\n"
     ]
    }
   ],
   "source": [
    "import os\n",
    "\n",
    "_join = os.path.join(\"/Users/lim_younghoon/Desktop/SK_Networks_AI/workspace01/project01\", \"main0524.ipynb\")\n",
    "\n",
    "print(_join)"
   ]
  },
  {
   "cell_type": "markdown",
   "metadata": {},
   "source": [
    "### 파일명과 확장자를 분리하는 방법 "
   ]
  },
  {
   "cell_type": "code",
   "execution_count": 22,
   "metadata": {},
   "outputs": [
    {
     "name": "stdout",
     "output_type": "stream",
     "text": [
      "main0524\n",
      ".ipynb\n"
     ]
    }
   ],
   "source": [
    "import os\n",
    "\n",
    "_name, _ext = os.path.splitext(\"main0524.ipynb\")\n",
    "\n",
    "print(_name)\n",
    "print(_ext)"
   ]
  },
  {
   "cell_type": "markdown",
   "metadata": {},
   "source": [
    "### 파일명을 변경하는 방법 "
   ]
  },
  {
   "cell_type": "code",
   "execution_count": null,
   "metadata": {},
   "outputs": [],
   "source": [
    "import os\n",
    "\n",
    "_fileList = os.listdir(\"/Users/lim_younghoon/Desktop/Python39\")\n",
    "# 현재 파일이 [\"test1.txt\", \"test2.txt\", \"test3.txt\"]가 있다고 가정\n",
    "\n",
    "os.renames(\"/Users/lim_younghoon/Desktop/test1.txt\", \"/Users/lim_younghoon/Desktop/good.txt\")\n",
    "\n",
    "print(os.listdir(\"/Users/lim_younghoon/Desktop/Python39\"))"
   ]
  },
  {
   "cell_type": "markdown",
   "metadata": {},
   "source": [
    "### 현재 파일의 이름과 경로 "
   ]
  },
  {
   "cell_type": "code",
   "execution_count": 27,
   "metadata": {},
   "outputs": [
    {
     "name": "stdout",
     "output_type": "stream",
     "text": [
      "/Users/lim_younghoon/Desktop/SK_Networks_AI/workspace01/project01/main0524.ipynb\n",
      "/Users/lim_younghoon/Desktop/SK_Networks_AI/workspace01/project01/main0524.ipynb\n",
      "/Users/lim_younghoon/Desktop/SK_Networks_AI/workspace01/project01/main0524.ipynb\n"
     ]
    }
   ],
   "source": [
    "import os\n",
    "\n",
    "# 현재 파일의 이름\n",
    "print(__file__)\n",
    "\n",
    "# 현재 파일 실제 경로\n",
    "print(os.path.realpath(__file__))\n",
    "\n",
    "# 현재 파일 절대 경로\n",
    "print(os.path.abspath(__file__))"
   ]
  },
  {
   "cell_type": "markdown",
   "metadata": {},
   "source": [
    "## 함수 데코리이터"
   ]
  },
  {
   "cell_type": "code",
   "execution_count": 1,
   "metadata": {},
   "outputs": [
    {
     "name": "stdout",
     "output_type": "stream",
     "text": [
      "인사가 시작되었습니다.\n",
      "hello\n",
      "인사가 종료되었습니다.\n"
     ]
    }
   ],
   "source": [
    "# 함수 데코레이터를 생성한다.\n",
    "def test(function):\n",
    "    def wrapper():\n",
    "        print(\"인사가 시작되었습니다.\")\n",
    "        function()\n",
    "        print(\"인사가 종료되었습니다.\")\n",
    "\n",
    "    return wrapper\n",
    "\n",
    "# 데코레이터를 붙여 함수를 만든다.\n",
    "@test\n",
    "def hello():\n",
    "    print(\"hello\")\n",
    "\n",
    "hello()"
   ]
  },
  {
   "cell_type": "code",
   "execution_count": 7,
   "metadata": {},
   "outputs": [
    {
     "name": "stdout",
     "output_type": "stream",
     "text": [
      "인사가 시작되었습니다.\n",
      "Second Hello\n",
      "인사가 종료되었습니다.\n",
      "인사가 시작되었습니다.\n",
      "adsf\n",
      "인사가 종료되었습니다.\n"
     ]
    }
   ],
   "source": [
    "from functools import wraps\n",
    "\n",
    "# 함수로 데코리에터를 생성한다.\n",
    "# *args : 가변위치인자 리스트\n",
    "# **kwargs : 가변키워드인자 딕셔너리\n",
    "def test(function):\n",
    "    @wraps(function)\n",
    "    def wrapper(*args, **kwargs):\n",
    "        print(\"인사가 시작되었습니다.\")\n",
    "        function(*args, **kwargs)\n",
    "        print(\"인사가 종료되었습니다.\")\n",
    "    return wrapper\n",
    "\n",
    "@test\n",
    "def hello():\n",
    "    print(\"Second Hello\")\n",
    "\n",
    "@test\n",
    "def abcd():\n",
    "    print(\"adsf\")\n",
    "\n",
    "hello()\n",
    "abcd()"
   ]
  },
  {
   "cell_type": "markdown",
   "metadata": {},
   "source": [
    "## 이미지 읽어 들이고 저장하기"
   ]
  },
  {
   "cell_type": "code",
   "execution_count": 11,
   "metadata": {},
   "outputs": [
    {
     "name": "stdout",
     "output_type": "stream",
     "text": [
      "b'\\xff\\xd8\\xff\\xe0\\x00\\x10JFIF\\x00\\x01\\x01\\x00\\x00\\x01\\x00\\x01\\x00\\x00\\xff\\xdb\\x00\\x84\\x00\\t\\x06\\x07\\x10\\x10\\x10\\r\\x10\\x0f\\x10\\r\\x0f\\x10\\x11\\x0f\\x10\\x0f\\x10\\x0f\\r\\x10\\x0f\\x10\\x0f\\x0f\\r\\x15\\x11\\x16\\x16\\x15\\x11\\x13\\x15\\x18\\x1c( \\x18\\x1a&\\x1b\\x15\\x15!1!%)7...\\x17 383-7(-.+\\x01\\n\\n\\n\\x0e\\r\\x0e\\x1a\\x10\\x10\\x1a0%\\x1f%/++--/--/-/+/--+-----.--/---/-+-------/-----+-----\\xff\\xc0\\x00\\x11\\x08\\x00\\xe1\\x00\\xe1\\x03\\x01\\x11\\x00\\x02\\x11\\x01\\x03\\x11\\x01\\xff\\xc4\\x00\\x1c\\x00\\x01\\x00\\x02\\x03\\x01\\x01\\x01\\x00\\x00\\x00\\x00\\x00\\x00\\x00\\x00\\x00\\x00\\x02\\x05\\x01\\x04\\x06\\x03\\x07\\x08\\xff\\xc4\\x00F\\x10\\x00\\x02\\x01\\x02\\x03\\x04\\x05\\n\\x03\\x04\\x06\\x0b\\x00\\x00\\x00\\x00\\x00\\x01\\x02\\x03\\x11\\x04\\x051\\x06\\x12!A\\x13Qaq\\x81\"2BRr\\x91\\xa1\\xb1\\xc1\\xd1\\x07#3\\x14b\\x82\\xe14\\xa2\\xb2\\xd3\\xe3\\xf1\\x15\\x16\\x17DTUs\\x92\\x94\\xc2\\xd2\\xff\\xc4\\x00\\x1b\\x01\\x01\\x00\\x02\\x03\\x01\\x01\\x00\\x00\\x00\\x00\\x00\\x00\\x00\\x00\\x00\\x00\\x00\\x01\\x02\\x03\\x04\\x05\\x06\\x07\\xff\\xc4\\x00:\\x11\\x00\\x02\\x01\\x03\\x02\\x03\\x05\\x04\\x08\\x06\\x02\\x03\\x00\\x00\\x00\\x00\\x00\\x01\\x02\\x03\\x04\\x11\\x05\\x12!1A\\x13Qq\\x81\\xa12a\\xb1\\xd1\\x06\\x14\"3B\\x91\\xc1\\xe1\\x15#4CR\\xf0$S\\x16\\xa2\\xf1\\xff\\xda\\x00\\x0c\\x03\\x01\\x00\\x02\\x11\\x03\\x11\\x00?\\x00\\xfb\\x88\\x00\\x00\\x00\\x00\\x00\\x00\\x00\\x00\\x00\\x00\\x00\\x00\\x00\\x00\\x00\\x00\\x00\\x00\\x00\\x00\\x00\\x00\\x00\\x00\\x00\\x00\\x00\\x00\\x00\\x00\\x00\\x00\\x00\\x00\\x00\\x00\\x00\\x00\\x00\\x00\\x00\\x00\\x00\\x00\\x00\\x00\\x00\\x00\\x00\\x00\\x00\\x00\\x00\\x00\\x00\\x00\\x00\\x00\\x00\\x00\\x00\\x00\\x00\\x00\\x00\\x00\\x00\\x00\\x00\\x00\\x00\\x00\\x00\\x00\\x00\\x00\\x00\\x00\\x00\\x00\\x00\\x00\\x00\\x00\\x00\\x00\\x00\\x00\\x00\\x00\\x00\\x00\\x00\\x00\\x00\\x00\\x00\\x00\\x00\\x00\\x00\\x00\\x00\\x00\\x00\\x00\\x00\\x00\\x00\\x00\\x00\\x00\\x00\\x00\\x00\\x00\\x00\\x00\\x00\\x00\\x00\\x00\\x00\\x00\\x00\\x00\\x00\\x00\\x00\\x00\\x00\\x00\\x00\\x00\\x00\\x00\\x00\\x00\\x00\\xf3\\xaf^0W\\x93\\xb2\\xf8\\xb3\\x05\\xc5\\xcd;xo\\xa8\\xf0\\x8b\\xc2\\x12\\x9b\\xc2)q9\\xfb\\xf4\\x12]\\xfcY\\xe6+\\xfd#\\x9bx\\xa5\\x1e\\x1e\\xf3\\xa1N\\xc3\\xfc\\x99\\xe5Khd\\x9f\\x95\\x18\\xc9vpe(\\xfd#\\xac\\x9f\\xf3\"\\x9a\\xf7pfIi\\xf1k\\x83.\\xb0X\\xd8V\\x8d\\xe0\\xf4\\xd6/\\xce\\x8fy\\xe9\\xad/i]Cu7\\xe2\\xba\\xa3\\x9bZ\\x8c\\xe9<H\\xd96\\xcc@\\x00\\x00\\x00\\x00\\x00\\x00\\x00\\x00\\x00\\x00\\x00\\x00\\x00\\x00\\x00\\x00\\x00\\x00\\x00\\x00\\x00\\x00\\x00\\x00\\x00\\x00\\x07+\\x9ec\\\\\\xa4\\xd2|\\x17\\x05\\xdcx\\x1dZ\\xf1\\xdcWk?epGn\\xce\\x82\\x8crS9\\x1c\\xcc\\x1d\\x0c\\x12\\x84\\x1b\\xd161\\x9e\\x08\\xabis,00\\xa9Jq\\x9cZMj\\x9e\\x92\\x8f4\\xce\\x8d\\x8b\\xafmQT\\x8f\\x0fs\\xea\\x8dZ\\xce\\x15\"\\xe2\\xcb\\xd9\\xe7\\x0b\\x94\\x1f\\x8b=\\x1c\\xf5\\xb8\\xaff\\x1e\\xa75Y\\xbe\\xac\\xf1\\x96q>Q\\x8f\\xc4\\xd7\\x96\\xb9S\\xa4Q\\x91Y\\xc7\\xbc\\x8f\\xfaf~\\xac>?r\\xbf\\xc7*\\xff\\x00\\x8a\\xf5\\'\\xeaP\\xefd\\xa3\\x9d\\xbepO\\xb9\\xb4d\\x8e\\xba\\xff\\x00\\x14=Hv+\\xa36)g4\\xdf\\x9c\\xa5\\x1f\\x0b\\xaf\\x81\\xb9OY\\xa1/k(\\xc5+*\\x8b\\x97\\x13r\\x96*\\x9c\\x95\\xe38\\xbeo\\x8e\\x88\\xe8S\\xb9\\xa3Qf2F\\xbc\\xa9N<\\x1a)\\xb3L\\xf2\\xd7\\x8d7e\\xebs}\\xddG\\x9a\\xd45\\xd998[\\xf2\\xef\\xf9\\x1d\\x0b{\\x1c\\xf1\\x99GS\\x1f);\\xb97\\xde\\xd9\\xe7\\xe7Z\\xb4\\xdee\\'\\xf9\\x9d%B)pF\\xce\\x137\\xab\\x06\\xad\\'%\\xea\\xcf\\x8a\\x7fcn\\xd7U\\xb9\\xb7|%\\x95\\xdc\\xf8\\x98j\\xd9\\xd3\\x9a\\xe2\\x8e\\xa3/\\xc6\\xc6\\xb47\\xa3\\xc3\\x94\\xa2\\xf5\\x8c\\xba\\x8fogw\\x0b\\xaaJ\\xa4<\\xd7s8\\xb5\\xa8\\xca\\x94\\xb6\\xb3h\\xda0\\x80\\x00\\x00\\x00\\x00\\x00\\x00\\x00\\x00\\x00\\x00\\x00\\x00\\x00\\x00\\xc4\\xb4}\\xc5e\\x9d\\xaf\\x04\\xaeg\\x0f\\x89\\x83\\x94\\xb8+\\x9f/ys}\\xe7\\xa4\\xa6\\xd4Q\\xedC\\x01n3\\xf7/\\xa9\\xb9\\x0b^\\xb3\\xfc\\x8cS\\xaf\\x9e\\x116\\xd2K\\x82Iw\\x1b+\\x11X\\x8a\\xc1\\x85\\xb6\\xf9\\x98e\\x1c\\x81\\x16Q\\xc8\\xb2 \\xca9\\x12E\\x95\\xdcX\\x8bdn$\\x8bd\\xee,E\\xb2\\xca\\xa18<\\xaa\\xc1K]z\\xd0j\\x12/\\x198\\x9a\\xd2\\xa2\\xd7j0\\xce\\x0e&e4\\xcc\\xc4\\xc4\\xc8e\\xae\\xcd\\xe2\\x1cq\\x1b\\x9c\\xaaE\\xab~\\xf4U\\xd3\\xf9\\xfb\\xce\\xf7\\xd1\\xfa\\xee\\x15\\xdd>\\x92^\\xab\\x8f\\xcc\\xd0\\xd4)\\xe6\\x96\\xee\\xe3\\xae=\\x99\\xc3\\x00\\x00\\x00\\x00\\x00\\x00\\x00\\x00\\x00\\x00\\x00\\x00\\x00\\x00\\x01\\x19\\xcd$\\xdbvH\\xac\\xe7\\x18E\\xcaO\\x08\\x94\\x9bxG;%\\x15)8\\xadd\\xdfm\\x9b\\xd0\\xf13T\\xe39J\\x0b\\x9bo\\xd4\\xeb&\\xdaI\\x91f&\\xc9\"\\xccm\\x92E\\xb2\\x8d\\x96 \\xd9F\\xc9DYF\\xcb\\x11e[,\\x886FI\"\\xd9\\x19,A\\x91\\x92Q\\x06\\xcb)\\x16\"\\xd9\\x963\\x18<\\xc8\\x9d,\\xf1\\x8f\\xe4YK\\xbc\\xdb\\xd9\\xc8\\xef\\xe2\\xe1m!\\x19\\xcd\\xfb\\xb7~l\\xe9\\xe8t\\x9c\\xaeT\\xbb\\xb2\\xfd1\\xfa\\x9a\\xfa\\x84\\xb6\\xd0k\\xbf\\x07n{c\\xcf\\x80\\x00\\x00\\x00\\x00\\x00\\x00\\x00\\x00\\x00\\x00\\x00\\x00\\x01\\x89;&\\xdf\\x04\\x88\\x94\\x94V_\"R\\xcf\\x02\\x97\\x1b\\x8as|<\\xd5\\xa2\\xeb\\xedg\\x95\\xbf\\xbeu\\xe5\\x85\\xec\\xae_3\\xa1F\\x92\\x82\\xf7\\x9a\\xa71\\xb39\\x16Q\\xb2H\\xb2\\x8d\\x92E\\x98\\xdb,A\\xb3\\x1be\\x91\\x16\\xca\\xb6I\\x06\\xca\\xb6Y\\x11l\\xaeI \\xc6K\\x11ld\\x92\\r\\x8c\\x96G\\x9c\\x99t\\xc9 \\xd9\\x9e\\x13\\xc1\\r\\x17\\x9b\\':q\\x9dU\\xa5I\\xa5n\\xd4\\xaft\\xbeg\\xa6\\xd1*RR\\x92\\xfcL\\xe6\\xea\\nn)\\xf4GPz#\\x94\\x00\\x00\\x00\\x00\\x00\\x00\\x00\\x00\\x00\\x00\\x00\\x00\\x00\\x05fk\\x88\\xf4\\x17|\\xbe\\xc7\\x07V\\xbb\\xfe\\xcc|\\xfeF\\xe5\\xb5?\\xc4\\xca\\xd3\\xcf\\xb6n\\x1eu\\xaa\\xc6\\x11\\x94\\xe7(\\xc21NR\\x94\\x9aQ\\x8cV\\xad\\xb7\\xa2)\\xc5\\xbc!\\xc8\\xe6\\xe5\\xb7\\xf9J\\xff\\x00~\\xa3\\xe0\\xaa?\\xfdM\\xaf\\xe1\\xd7O\\xfbl\\xa7m\\x0e\\xf2?\\xeb\\xfeU\\xff\\x00\\x1bG\\xddS\\xff\\x00\\x92\\x8fM\\xbb\\xff\\x00\\xad\\xfa\\x13\\xdbS\\xef\\'\\r\\xb5\\xcb%\\xa6;\\x0b\\xfcS\\xdd\\xf9\\xa3\\x0c\\xb4\\xfb\\xb5\\xfd\\xb7\\xf9\\x16U\\xa9\\xf7\\x96x,}\\x1a\\xf0\\xe9(U\\xa5Z\\x17\\xb6\\xfd)\\xc6q\\xba\\xe5u\\xcc\\xd2\\xab\\t\\xd3\\x96\\xd9\\xc5\\xa7\\xef\\xe0f\\x8c\\x94\\x96Q\\xec\\xd9\\x85\\xc8\\xbe\\x086W$\\x91l\\x8c\\x960\\xd9$\\x90`\\x92\\x0c\\xb1b\\x12%\\x12y\\xb3\"`\\xcd:\\x8e-I;4\\xee\\x9a\\xe4\\xcd\\xca\\x15\\\\$\\x9a\\xe6c\\x9cSXgq\\x94\\xe3\\x95zj^\\x92\\xe15\\xd5/\\xb1\\xee,\\xeeU\\xc5%.\\xbd|N\\x05zN\\x94\\xf1\\xd0\\xdd6\\x8c \\x00\\x00\\x00\\x00\\x00\\x00\\x00\\x00\\x00\\x00\\x01\\n\\xb57b\\xe4\\xf9+\\x98\\xea\\xd4T\\xe0\\xe6\\xfa\\x16\\x8cw4\\x8ezsm\\xb6\\xf5n\\xec\\xf1\\x15j9\\xc9\\xc9\\xf3gU,,\"\\r\\x98\\x1b,U\\xed6P\\xb1\\xb8LF\\x15\\xd4\\x95%V)t\\x91WqjJK\\x85\\xd5\\xd7\\x0e*\\xe6K{\\x8e\\xc2\\xacjc8+8n\\x8e\\x0f\\x9b\\x7f\\xb1H\\xff\\x00\\xcc%\\xff\\x00\\x8a\\xbf\\xbc:\\xef\\xe9\\x0b\\xff\\x00\\xaf\\xd7\\xf65\\xbe\\xa7\\xef<\\xe7\\xf8-\\xd5\\x98{\\xf0\\xbf\\xe2\\x91\\xff\\x00\\x92c\\xfb_\\xfb~\\xc4\\xfdK\\xdek\\xd4\\xfc\\x19\\xa8\\xbc\\xdcu\\'\\xedP\\x9c~Ra}&\\x87Zo\\xf3\\xfd\\x87\\xd4_\\x7f\\xa7\\xeeu\\xff\\x00\\x87\\xfb\\x1f,\\xb2\\x15\\xf7\\xeb*\\xd3\\xac\\xe1u\\x04\\xe3N\\n\\x17\\xb5\\xaf\\xab{\\xda\\xf7\\x1cmWSW\\xb2\\x8e\\xd8\\xe1,\\xf8\\xf16\\xad\\xe8vI\\xe5\\x9d[9&\\xc9\\x86\\xc1b$\\x83[\\x1f*\\x8a\\x95WE)UT\\xe6\\xe9\\xc6ZJ\\xa2\\x8b\\xddO\\xc6\\xc6JJ.qS\\xe5\\x95\\x9f\\x01,\\xe1\\xe0\\xf8}}\\xb8\\xce\\xa9J]%Z\\x90i\\xbb\\xc6\\xae\\x1e\\x92I\\xf5q\\x81\\xeec\\xa4\\xe9\\xd5\\x17\\xd9\\x8a~\\x12\\x7f3\\x8e\\xeen\"\\xf8\\xfc\\x0fz\\x1f\\x8aY\\x8cm\\xbd\\xfb5On\\x93O\\xfa\\xad\\x14\\x97\\xd1\\xfbG\\xcb+\\xcf\\xe7\\x92\\xd1\\xbf\\xaa\\xbb\\x8bL?\\xe2\\xe4\\xf8t\\x98:r\\xebt\\xebJ\\x1f\\x07\\x16j\\xcf\\xe8\\xdc\\x7f\\rG\\xe6\\xbfteZ\\x93\\xeb\\x1fS\\xb2\\xd9]\\xab\\xa1\\x98\\xc6\\xa3\\xa5\\x19\\xd3\\x9d;o\\xd3\\xa9f\\xf7^\\x92Mj\\xb84qo\\xb4\\xea\\x96mnyO\\x93F\\xf5\\x0b\\x98\\xd6O\\x05\\xe9\\xab\\x06ge\\xae\\xce\\xe3::\\xa9?6v\\x83\\xef\\xf4_\\xbf\\xe6w\\xf4\\xab\\x8e\\xce\\xae\\x1f\\'\\xc3\\xe4h\\xdeR\\xdf\\x0c\\xf5Gfz\\xb3\\x8a\\x00\\x00\\x00\\x00\\x00\\x00\\x00\\x00\\x00\\x00\\x00\\x1a\\x19\\xbdKAG\\xd6\\x7f\\x04r5\\x8a\\xbbi(w\\xbf\\x81\\xb3k\\x1c\\xcb%=\\xcf)&t\\x08\\xdc\\xc6\\xd9&\\x1b(\\xd9$\\x1b1\\xb6X\\xe2\\xf3\\xbf\\xc4\\xbc\\xbf\\x0b^Xy:\\xf5e\\tnT\\x95\\x08FP\\xa7%\\xaam\\xc9]\\xaev:T4[\\xaa\\xf4\\xfbE\\x84\\x9f,\\xbe/\\xd0\\xc1+\\xa8E\\xe0\\xe9\\xb0\\x18\\xeax\\x8aT\\xebQ\\x9a\\x9d:\\x91\\xde\\x84\\xd75\\xf4|\\xad\\xd8q\\xebS\\x9d)\\xb8Ma\\xaef\\xccZ\\x92\\xca=\\x99\\x88\\xb9\\x16I&\\x19$\\x91`\\x92,\\x92H\\xcb\\x8e\\xbc{\\xc9D\\xa4i\\xe22\\xfa\\x13\\xf3\\xe8P\\x9f\\xb7J\\x9c\\xbeh\\xcd\\n\\xd5c\\xec\\xc9\\xaf6;8\\xbeh\\xa9\\xc5\\xecv[R\\xfb\\xd8:\\x0b\\xb6\\x9a\\x95\\'\\xef\\x83F\\xe5=N\\xee\\x1c\\xaa?>?\\x1c\\x98\\xe5kJ\\\\\\xe2\\x89d{5\\x84\\xc0\\xba\\xb2\\xc3S\\x94\\x1dD\\x94\\x9c\\xa7)\\xf9+\\x8aJ\\xef\\x82+s\\x7f^\\xe5%U\\xe7\\x1e\\xec\\x13J\\xde\\x14\\xb3\\xb5\\x16\\xa6\\xbcL\\xac\\x94\\x1f\\x13~\\x83\\xc31M\\x1f@\\xc0\\xd6\\xe9)\\xd3\\x9f\\xad\\x14\\xdf\\x7f?\\x89\\xee(\\xcf}8\\xcb\\xbd\\x1ez\\xa4v\\xcd\\xa3\\xdc\\xcaP\\x00\\x00\\x00\\x00\\x00\\x00\\x00\\x00\\x00\\x00Sg\\x13\\xf2\\xd2\\xea\\x8f\\xcc\\xf3\\x1a\\xd5L\\xd5Q\\xeeGB\\xd6?g%{g\\x05\\xb3h\\xc1\\x8d\\xb2H\\xb6Q\\xb2HK\\x9f\\x1bv\\xf5v\\x98\\xdb\\'\\x07\\xe6\\xbc\\xdfd\\xf1\\xf4\\xb15(\\xbc6\"\\xa4\\x9dIn\\xce\\x9d9\\xce\\x15S\\x97\\t\\xa9%k={9\\x9f@\\xa1\\xa8\\xdbN\\x92\\x9e\\xf4\\x9697\\x8c{\\x8eD\\xe8\\xcfv0}\\xbb`\\xf2j\\x98,\\x06\\x1e\\x85g\\xf9\\x8b~s\\x8awP\\x94\\xe4\\xde\\xe2}\\x9c<nx}R\\xea\\x177R\\xa9\\x0e\\\\\\x12\\xf7\\xe3\\xa9\\xd6\\xb7\\xa6\\xe1\\x04\\x99~\\xcey\\x9c\\x8bd\\x92E\\xb2I0\\xd9$\\x91d\\x92Um6e,.\\x13\\x15\\x88\\x82R\\x95:nQO\\x8a\\xdem$\\xdfe\\xdd\\xcd\\xab*\\n\\xbdxS|\\x9b1\\xd5\\x9e\\xc89#\\xe2\\xf8\\r\\xbf\\xcci\\xd6\\x8dY\\xd7\\x9dh\\xef^tj[\\xa3\\x94y\\xc5$\\xbc\\x9e\\xf4{Z\\xba5\\xa4\\xe9\\xec\\x8c0\\xfa5\\xcf\\xf78\\xd0\\xbc\\xaa\\xa5\\x96\\xcf\\xb9\\xd2\\xaa\\xa7\\x18Mi(\\xc6j\\xfa\\xdaJ\\xeb\\xe6xYE\\xc6N/\\xa1\\xdf\\x8b\\xca\\xc8`\\xb1\\x82\\xd1\\x0cD\\xde\\xa2b\\x91\\xd9l\\xd5K\\xd0K\\xd5\\x93^\\x1a\\xfdO_\\xa6\\xcfu\\x0cw\\x1c;\\xc8\\xe2\\xa1lt\\rP\\x00\\x00\\x00\\x00\\x00\\x00\\x00\\x00\\x00\\x01A\\x99\\xbf\\xcd\\x9f\\x82\\xf8#\\xc7j\\xb2\\xcd\\xcc\\xbc\\xbe\\x07R\\xdd\\x7f-\\x1al\\xe46g0\\xca6I\\x16cl\\x94E\\x98\\xd9b\\r\\x98\\x99l\\x10\\x04\\x98l\\x92\\xc8\\xd4\\xc7c\\xa9Q\\x84\\xaaV\\xa9\\npZ\\xce\\xa4\\x94b\\xbcY\\x96\\x95\\x19\\xd5\\x96\\xd8,\\xbfpmEe\\x95\\x18]\\xb0\\xcb\\xea\\xc9B\\x18\\xba\\x0eM\\xd9\\'\\'\\x1b\\xbe\\xc7$\\xaenOL\\xba\\xa7\\x1d\\xd2\\xa6\\xf0V5\\xe9I\\xe1I\\x17jF\\x8e\\x0c\\xd8\\r\\x80x\\xe2\\xa8B\\xac\\'N\\xa4T\\xe18\\xb8N/IE\\xab4^\\x13\\x94$\\xa5\\x17\\x86\\xb8\\xa2\\x1cT\\x96\\x19\\xf3\\xfa\\x7f\\x858e]M\\xd7\\xab**[\\xdd\\x03\\x8cw\\x9f\\x1f5\\xd4\\xbe\\x9e\\x17=\\x0b\\xfaEY\\xd3\\xdb\\xb5n\\xef\\xfd\\xbfsIi\\xd0\\xdd\\x9c\\xf0\\xee>\\x80\\x92I%\\xc1%d\\x96\\x89u\\x1e\\x7f\\x99\\xd1DY \\x8b&!\\x99\\x81\\xbdH\\xc5#\\xaa\\xd9G\\xe4U_\\xbc\\x9f\\xbd\\x7f#\\xd5\\xe9O\\xf9rG\\x1e\\xf9}\\xa4^\\x9dSD\\x00\\x00\\x00\\x00\\x00\\x00\\x00\\x00\\x00\\x00s\\xd9\\x97\\xea\\xcf\\xbf\\xe8x\\xbdS\\x85\\xcc\\xff\\x00\\xde\\x87V\\xdf\\xee\\xd1\\xa8\\xceK3\\x98e\\x1b$\\x8bf6J \\xccm\\x96\"\\xca\\x16F\\xfeW\\x97t\\xbeT\\xae\\xa0\\x9d\\xb8k\\'\\xd5\\xdcwt\\x8d#\\xeb_\\xcc\\xa9\\xc2\\x0b\\xd7\\xf65nn{>\\x11\\xe6]\\xd3\\xc2\\xd3\\x82\\xb4a\\x15\\xe0\\x9b\\xf7\\xb3\\xd8\\xd2\\xb3\\xa1Im\\x84\\x12\\xf29\\xb2\\xab9<\\xb6|\\xc7\\xf1\\xf3 \\xa9\\x88\\xc0R\\xafB7\\xfd\\x96\\xac\\xaaV\\x84\\x17\\x17FQ\\xb3\\xa9e\\xae\\xebK\\xb9I\\x99\\xa3N\\x11yI\\'\\xe0VNMa\\xb3\\xf3\\xd6\\x0f\\x0bR\\xb5HR\\xa5\\tT\\xa9RJ\\x10\\x84\\x15\\xe5)=\\x12FC\\x19\\xfa\\xcbe\\xf6ma\\xf08:8\\x85\\xbf^\\x9d\\x08F\\xac\\xd4\\xe6\\xff\\x002\\xdcRw\\xe2\\x96\\x9e\\x072\\xae\\x95iQ\\xb9J\\x1c_\\xbd\\xfc\\xcd\\xc8]VI,\\x92\\xc7d\\xf6NT\\x9bv\\xf4%\\xaf\\x838\\xf7\\xba\\x02I\\xca\\xdd\\xf9?\\xd1\\xfc\\xcd\\xea7\\x99\\xe1?\\xcc\\xa7l\\xf3-4\\xf0\\xce\\x81\\x86\\t\"\\xc9$\\x81 \\x8b-\\x10\\xc9A\\x1b\\xb4\\x8cR:\\xad\\x95^M^\\xf8\\xfc\\x99\\xea\\xb4\\x9fb^G\\x1e\\xfb\\xdaE\\xe9\\xd64\\x00\\x00\\x00\\x00\\x00\\x00\\x00\\x00\\x00\\x00\\x05\\x0eq\\x1bTo\\xad\\'\\xf4\\xfa\\x1eGZ\\x86\\xdb\\x86\\xfb\\xd2\\xf9\\x1d;W\\x9ae{g\\nF\\xd6\\x0c\\\\\\xc6\\xc9\"\\xd9\\x8d\\xb2H\\xb2\\x8c\\xb1\\x12\\xa4\\x9dFZ\\x92\\xa3J\\xde\\xad\\xfc^\\xa7\\xd24\\xb8\\xa8\\xd9\\xd3Q\\xee^\\xbc_\\xa9\\xc6\\xb8\\xcb\\xab,\\x9e\\xed\\x9b\\xc6$y\\xb2\\x0b\\x15yf\\xcc\\xe00\\xd5%[\\x0f\\x83\\xc2\\xd1\\xab+\\xde\\xa5*Q\\x8c\\xac\\xf5I\\xfa)\\xf6\\x13\\x92\\xb8-$Adx\\xd4D\\x179l\\xce*5\\xa6\\x974\\xa5\\xef\\xff\\x00#\\xc5k\\x94T.\\xb2\\xbf\\x12O\\xcc\\xec\\xdaI\\xca\\x92\\xcfN\\x06\\xab8\\xe6\\xc9\\x16I$Y$\\x90e\\xe2C=i#z\\x89\\x8aG]\\xb3T\\xedJO\\xae\\x7f\\x04\\x91\\xeb4\\xc8\\xe2\\x93~\\xf3\\x89z\\xf34\\x8bs\\xa4i\\x80\\x00\\x00\\x00\\x00\\x00\\x00\\x00\\x00\\x00\\n\\x9c\\xfa\\x9f\\x08K\\xbe/\\xe8y\\xfdv\\x96c\\x1a\\x9eF\\xf5\\x94\\xb8\\xb8\\x94\\xad\\x9eNGG\\x04nbd\\x98l\\xc6\\xc9\"\\xd9VI\\x82\\x01o\\x94f\\t.\\x8en\\xd6\\xf3[\\xd3\\x8f\\xa2\\xcf[\\xa1jpP\\xfa\\xbdW\\x8c{/\\xf4\\xf9\\x1a7V\\xed\\xbd\\xf1\\xf3-]E\\xd6\\x8fRh\\xe0\\xf0\\xaf\\x8c\\x84\\x13ri%\\xabm$\\xbcJ\\xb6\\x92\\xcb,\\xa2\\xdb\\xc2!\\x97f4\\xeb\\xc3z\\x12N\\xcd\\xa7mS\\xbfQ\\x8e\\x95juV`\\xf2Z\\xad\\x19\\xd3x\\x92\\xc1\\xb3).\\xb3)L\\x1a\\xb8\\x8a\\xf1I\\xb6\\xd2I]\\xb7\\xc1%\\xd6\\xca\\xb7\\x85\\x96]&\\xf8#\\x8f\\xad\\x8a\\xe9j\\xd4\\xa8\\xbc\\xd7e\\x0b\\xeb\\xb8\\xb8\\'\\xe3\\xc5\\xf8\\x9e\\x1bU\\xb8U\\xeb\\xb9.K\\x82;\\xd4)vT\\xd4_>\\xa6Na\\x90\\xc3d\\x84y\\xb6X\\xb1\\x84^<\\xca\\xb3f\\x8cN\\x85\\x14a\\x99\\xdb\\xe5\\x94\\xb7)S\\x8f=\\xdb\\xbe\\xf7\\xc4\\xf6v\\xb0\\xd9J(\\xf3\\xf5\\xe5\\xba\\xa3f\\xd1\\xb0a\\x00\\x00\\x00\\x00\\x00\\x00\\x00\\x00\\x00\\x00\\x1e\\x18\\xea\\x1d%9G\\x9d\\xae\\xbb\\xd6\\x86\\xad\\xed\\x0e\\xde\\x8c\\xa1\\xd7\\xa7\\x89\\x96\\x8c\\xf6M3\\x91\\x94\\xac|\\xfe\\xa2\\xc3;\\xa9\\x18\\xde5\\xd8\\xc1\\x9b\\x94c\\x06\\x19RL\\\\\\x03\\x0c\\x12y\\xc9\\xc9y\\xb3\\x9c}\\x994\\x8d\\xea:\\x85\\xcd%\\x88\\xcd\\xe3\\xc4l\\x84\\xbd\\xa8\\xa6jU\\xc2\\xef;\\xcd\\xca~\\xd4\\x9b\\xf9\\x93R\\xf6\\xb5_nM\\x99\\xa1\\xb6\\x1e\\xca\\xc1\\xe9J\\x0e\\x0e\\xf0n/\\xae<\\nQ\\xba\\xa9F[\\xa1,1-\\xb3X\\x92\\xca=\\xa5\\x99\\xe2\\x17\\xa5\\tv\\xca<~\\r\\x1d\\x88k\\xf7\\ta\\xa4\\xfc\\x8dwcE\\xf7\\xaf3G\\x13V\\xad^\\x15f\\xdcu\\xdc\\x8a\\xdd\\x8d\\xfbW?\\x13Z\\xe7T\\xad]bO\\x87r6)P\\xa7K\\x8cW\\x1e\\xf2t\\xe3c\\x98\\xdeL\\x8c\\x9bd\\x10A\\xb2ID\\x1b,I(#%4U\\x96\\xb9>\\x17\\xa4\\xa9\\x15\\xca\\xf7~\\xca\\xd4\\xedi\\xf4{J\\x89\\x1aWU6A\\xb3\\xb4=y\\xe7\\xc0\\x00\\x00\\x00\\x00\\x00\\x00\\x00\\x00\\x00\\x07\\x9dj\\xd1\\x82\\xde\\x9bQ]l\\xc3Z\\xbd:\\x11\\xddRXE\\xa1\\tM\\xe2(\\x959\\xa9%(\\xb4\\xd3WMh\\xd1\\x92\\x13\\x8c\\xe2\\xa5\\x17\\x94\\xc8\\x94\\\\^\\x19\\xcc\\xed&\\x11\\xd3\\x97I\\x15\\xe4\\xc9\\xf1\\xec\\x9f\\xf3<\\x9e\\xb7e\\xd9\\xcf\\xb5\\x8a\\xe1/G\\xfb\\x9d\\x9b\\n\\xbb\\xe3\\xb1\\xf3_\\x02\\x9a\\x9e!\\x1evI\\x9d\\tS=\\xe33\\x1b18\\x99\\xb9R0.\\t\\xc1\\x8b\\x81\\x83\\r\\x92I\\x16\\xc9$\\x8bd\\x92A\\x92Y\\x10e\\x8b\\x11l\\x9c\\x13\\x82.D\\xe0\\xb6\\x089\\x16\\xc1&\\x13\\x18 \\xf7\\xa2\\x8c\\xf4\\xa2RL\\xec6\\x7f\\x07\\xb9\\r\\xf6\\xbc\\xa9\\xe9\\xd9\\x13\\xd8\\xe9v\\xdd\\x9d=\\xef\\x9b\\xf8\\x1c\\x1b\\xea\\xdb\\xe7\\xb5rE\\xb1\\xd44@\\x00\\x00\\x00\\x00\\x00\\x00\\x00\\x00\\x00\\x05&\\xd1\\xc5\\xf9\\x1dVk\\xc4\\xf2\\x9fI\\xa3,\\xd3\\x97N?\\x99\\xd1\\xb0k\\x89\\xaf\\x93\\xe2\\xe7F\\x12\\x8c\\x96\\xf4ox+\\xd9\\xc5\\xbdWq\\x87M\\xd4\\xe7kE\\xc2q\\xca\\xe9\\xfe\\xf7\\x19\\xae\\xa8\\xc6\\xac\\x93\\\\\\xfa\\x98\\xc7\\xe62\\xa9\\x19BJ\\x1b\\xb2Vj\\xd7\\xf8\\x98n\\xf5\\xaa\\xd5b\\xe0\\xd2\\xc3\\xe9\\x81F\\xde0\\x92\\x92\\xe6r\\xb8\\xfa=\\x1f\\x95\\x16\\xed\\xcd>]\\xa72\\x9c\\x94\\xf8\\x1d\\xba3\\xdf\\xc2D\\xb0\\x98\\xb4\\xca\\xd4\\xa7\\x82*\\xd2\\xc1\\xbc\\xa6`\\xc1\\xad\\xb4o\\x11\\x81\\x83\\x1b\\xc4\\xe0`\\xc3\\x90\\xc18\"\\xe6N\\t\\xc1\\x172p[i\\tT-\\xb4\\xb2\\x89\\xe6\\xea\\x16\\xdaN\\x0f7P\\xb6\\xd2H9\\x93\\x82Lo\\x13\\x82\\t\\xd3\\xe2\\x12\\xcb!\\x9d\\x16\\xcf\\xe5n\\xa3S\\x92\\xf2\"\\xff\\x00\\xee}GwK\\xb0ue\\xbe^\\xca\\xf59\\xb7\\xb7]\\x9a\\xdb\\x1el\\xeb\\x8fXp\\x80\\x00\\x00\\x00\\x00\\x00\\x00\\x00\\x00\\x00\\x00\\x02\\xb3;\\xa8\\xb7c\\x1ew\\xbfr8:\\xf5X\\xaaq\\x87\\\\\\xe4\\xdc\\xb4\\x8b\\xcbe-I\\x9eB\\xa5Vtc\\x13Zr5\\xb2\\xd9\\x99#K\\x14\\xae\\x9a\\xec2\\xc3\\x836)\\xf0g4\\xa6\\xe9\\xcb\\x8e\\x97\\xe0\\xf9x\\xf5\\x1d,)\\xa3\\xa2\\xd6\\xe5\\x94[a\\xb1\\x97\\xd4\\xd5\\x9d,\\x1a\\x93\\x89\\xb2\\xaa\\x98\\xb6\\x98\\xf0\\x1dQ\\xb4\\x9c\\x11uI\\xda0E\\xd5\\'i8!*\\xa4\\xed$\\xf3uKm\\x04\\x1c\\xcb`\\x93\\x0ed\\xe0\\x18\\xb8\\x07\\xa4#r\\xa46t\\xb9&\\xcf\\xcav\\x9dT\\xe3\\rl\\xf8J_dw4\\xfd&u1:\\xbc#\\xea\\xfeG2\\xea\\xfa0\\xfb0\\xe2\\xfe\\x07]N\\x9a\\x8aQ\\x8aI%d\\x97$z\\xa8B0\\x8a\\x8cV\\x128r\\x93\\x93\\xcb$X\\x80\\x00\\x00\\x00\\x00\\x00\\x00\\x00\\x00\\x00\\x00\\x00\\xa1\\xcf%\\xf9\\x9f\\xc2\\xad\\xf1<\\x86\\xbc\\xdfo\\xe4\\x8e\\x9d\\x9a\\xfb\\x05D\\xe6y\\x99qf\\xfa\\x89\\xe19\\x84\\x8c\\x89\\x1a8\\xbcBI\\x99\\xe9\\xc1\\xb3<\"R\\xd4\\x92\\x95\\xcd\\xe4\\xb0n\\xc5\\xe1\\x0c=\\x07k\\xc5\\xb5\\xd9\\xc8N}\\x18\\x93O\\x99\\xef\\x1a\\xb3\\x8e\\xb1\\xbflLn1|\\x99\\x89\\xd2O\\x93&\\xb1K\\x9d\\xd7zh\\xaff\\xca:rD\\x95d\\xf4hm+\\x86a\\xcc`\\x11r\\'\\x00\\x8e\\xf18$\\\\\\x00\\xe4\\x96\\xad.\\xf1\\x87\\xd0\\x9c6yT\\xc7S\\x8f\\\\\\x9fT~\\xe5\\x95\\x192\\xca\\x9c\\x99\\x9c\\xbf>\\xa9J\\xac*(Sq\\x8b\\xf3$\\xae\\x9a\\xed}}\\xa8\\xdc\\xb7\\xc5\\t\\xa9\\xa5\\x97\\xef\"\\xb5\\xb4jSqm\\xf8\\x9fQ\\xc9\\xb3zX\\xaa{\\xf4\\xdd\\x9a\\xf3\\xe0\\xfc\\xe8>\\xa7\\xf7=m\\xb5\\xd4.#\\xba>k\\xb8\\xf2\\x97\\x16\\xd3\\xa1-\\xb2\\xfc\\xcb\\x03d\\xd7\\x00\\x00\\x00\\x00\\x00\\x00\\x00\\x00\\x00\\x00\\x00\\x00\\x05^{\\x84s\\x86\\xf4\\x15\\xe5\\x1b\\xf0Z\\xb8\\xf6\\x1c]f\\xcaU\\xe9\\xef\\x82\\xfbQ\\xf5F\\xed\\x9de\\tm\\x97&qX\\x8cU\\x9b<b\\xa7\\xc4\\xef\\xc6(\\xd1\\xab\\x8c\\x93\\xd0\\xcd\\x1aI\\x19\\x12+\\xabV\\x94\\x9e\\xbc>f\\xccb\\x923E$BS\\xb1)\\x17E\\xa6\\n\\x1eJ5j>&93qQ\\xb9\\x87q\\x89\\xcc\\xc4\\xb0\\xc9\\xf2\\n\\xa3\\n\\xa1\\xafS\\x03\\x17\\xc9\\x19\\x15fdUMy\\xe0:\\xae\\xbb\\x9b2\\xaa\\xc5\\xb7\\x9e\\x12\\xc1\\xcb\\xd6\\x97\\xbd\\x97UWq;\\x97q\\xe5,4\\xbdi\\xfb\\xd9~\\xd1w\\x13\\xb9w\\x10\\xfd\\x99\\xf3r\\xf7\\xb2{D7\\xa2Q\\xc2.\\xa2\\x1dB\\x1dC2\\xc3\"\\x14\\xd8R0\\xa8\\x13\\xbc\\x86\\xcb\\x1c\\xa3\\x17<=H\\xd4\\xa6\\xec\\xd7\\x06\\xb9J<\\xe2\\xfb\\x0c\\x94.\\xa7B\\xa2\\x9c?\\xfaj\\xdcR\\x8dX\\xed\\x91\\xf4\\xfc\\xbf\\x19\\x1a\\xf4\\xe3R\\x1a5\\xc5s\\x8c\\xb9\\xa6{Kz\\xf1\\xafMN=O/V\\x93\\xa77\\x16l\\x99\\x8c`\\x00\\x00\\x00\\x00\\x00\\x00\\x00\\x00\\x00\\x00\\x00\\x00\\xac\\xccr,={\\xb9\\xc2\\xd2~\\x9c\\x1e\\xec\\x9f\\x7f&h\\xdci\\xd6\\xf5\\xdee\\x1c>\\xf5\\xc0\\xda\\xa3yV\\x97\\x04\\xf8w2\\xa6[\\x13G\\x95Z\\xb6\\xedQ\\x7fCG\\xf8\\x1d/\\xf2~\\x86\\xda\\xd5j\\x7f\\x8a1\\x1d\\x85\\xc3\\xf3\\xabY\\xf7n/\\xa1u\\xa2\\xd2\\xeb\\'\\xe9\\xf2\\x1f\\xc5\\xea\\xf4\\x8a\\xf55s\\xdd\\x94\\xc3P\\xc3\\xd4\\xa9\\x0e\\x91\\xce.\\x16s\\x95\\xf5\\x92M[Nf\\x1b\\xeb\\n4-\\xe58\\xe7+\\x1f\\x13=\\xa6\\xa3Z\\xade\\tc\\x0f?\\x02\\x93\\r\\r\\x0f\\'6ud\\xcd\\xe8D\\xc0\\xd9\\x81\\xb3\\xdaT$\\x94d\\xd3Q\\x95\\xf7_\\'ml^T\\xaaF\\nr\\\\\\x1f\\'\\xdecU\\x13m\\'\\xc5\\x1eN\\x06<\\x97R\"\\xb0\\xeeW\\xddM\\xd99;+\\xda+\\x99\\x9a\\x9c\\'S;\\x16q\\xc5\\xf8\\x13\\xda(\\xf3f\\xbc\\xa9\\x10\\xa4eR<gD\\xba\\x91l\\x9er\\xa4]Hd\\x83\\x819#&\\x9fJ\\xb7\\x9a\\xeafm\\xbc2fQ\\xe1\\x93b\\x101\\xb6U\\x9e\\x8a\\x99\\\\\\x98\\xd9\\xd2l~3r\\xa3\\xa4\\xdf\\x93SN\\xc9\\xa5\\xc3\\xe1\\xf4;\\x9a\\x1d\\xce\\xda\\x8e\\x93\\xe4\\xfe\\'+Q\\xa5\\xba\\x1b\\xd7C\\xb3=Y\\xc4\\x00\\x00\\x00\\x00\\x00\\x00\\x00\\x00\\x00\\x00\\x00\\x00\\x00\\x00\\x00\\x00\\xa7\\xda\\xaf\\xe8\\xf2]s\\x82\\xf8\\xdf\\xe8r5\\xb9b\\xd1\\xf8\\xa3\\x7fN\\xfb\\xf4\\xfd\\xcc\\xe4\\xe9S<4\\x99\\xdd\\x94\\x8b,\\xb3\\x07\\xd2\\xd4\\x8c}\\x1de\\xec\\xa3oM\\xb3\\xfa\\xd5\\xc2\\x83\\xe5\\xcd\\xf8~\\xe6\\x9d\\xc5n\\xce\\r\\xf5\\xe8u\\x18\\x8c,\\'\\r\\xc6\\xbc\\x9bp\\xb7\\xa3m\\x1a=\\xd5\\xc5\\xa5*\\xf4{\\x19.\\x1d=\\xde\\x07\\x16\\x15e\\tn\\\\\\xceb\\xae]QT\\xe8\\xady=\\x1f\\'\\x1f[\\xb8\\xf0\\xd54\\xba\\xf0\\xb9\\xfa\\xbaYo\\x93\\xe9\\x8e\\xf3\\xb3\\x1b\\x88:{\\xfa\\x1d\\x1e\\x03\\x05\\x1a1\\xdd\\x8f\\x16\\xf8\\xca\\\\\\xe4\\xfe\\xc7\\xb6\\xb1\\xb2\\x85\\xa5-\\x91\\xe7\\xd5\\xf7\\xbf\\x97q\\xc9\\xadZUe\\x97\\xe4Tg\\x19>\\xb5).\\xd9A|\\xe3\\xf68z\\xae\\x8f\\xce\\xb5\\x05\\xe2\\xbfU\\xf27\\xedo?\\x04\\xfc\\x9f\\xcc\\xd3\\xc9\\xf2\\xae\\x95\\xef\\xcd~Zzz\\xef\\xab\\xb8\\xd4\\xd24\\xd7^]\\xadE\\xf6\\x17\\xab\\xf9w\\xfeF{\\xab\\xae\\xcdm\\x8f?\\x81\\x8d\\xa1\\xca\\xd57\\xd2AZ\\x12v\\x92ZF]\\x9d\\x8c\\xcb\\xaci\\xea\\x8b\\xed\\xa9\\xaf\\xb2\\xf9\\xae\\xe7\\xf2b\\xca\\xe5\\xcdl\\x975\\xea\\x8a\\x19\\xc4\\xe2&o\\x94\\xf8\\x9c\\xb2\\xa4UL\\\\\\x1b\\x955QB\\xb4-\\xc6\\x95\\xe2\\xb7j{/N\\xc7\\xdf\\xc3\\xb5J\\x8fkk\\xb9tx2\\xc2\\xbcw\\xaaR\\xe6\\xd6W\\xbf\\xbd\\x1b\\xb8J\\x97H\\xe5\\xd4\\x8e\\x19i#m#\\x0eLL\\xd8\\xc1\\xcd\\xc2p\\x92\\xd5I?s3[Tt\\xea\\xc6K\\xa30V\\x8e\\xe8\\xb4}\\x1e2\\xbaO\\xad\\\\\\xfa\"yY<\\xbbXx2I\\x00\\x00\\x00\\x00\\x00\\x00\\x00\\x00\\x00\\x00\\x00\\x00\\x00\\x00\\x00*6\\x97\\xf4\\xa2\\xbf}|\\x99\\xc4\\xd7\\x9f\\xfcd\\xbd\\xeb\\xf57\\xf4\\xff\\x00\\xbco\\xdcs\\x90\\x81\\xe2\\xd9\\xd6l\\xe86z\\x8d\\xa19\\xf3\\x94\\xb7|\\x17\\xf3g\\xab\\xfa9Gm)\\xd5\\xefx\\xf2G*\\xfay\\x92\\x89lz3DX\\x8cu$0\\x0c\\x00F\\xc4%\\x8eD\\xe4\\xf1\\xc5\\xe1\\xd5HN\\x0fI+w>O\\xdeb\\xafF5\\xa9\\xca\\x9c\\xb94d\\xa5Q\\xc2JK\\xa1\\xc0\\xd6\\x83M\\xa7\\xaam>\\xf4|\\xf5\\xc5\\xc6N/\\x9a=*yYE\\x96\\xcb\\xce*\\x19\\x92\\xa9g\\x0e\\x85JJZn\\xdaw\\xb9\\xe9t9-\\x95\\x13\\xe5\\xc3\\xf54/\\xd3\\xddI\\xc7\\x9e~G\\'\\x93\\xaf&=\\xc7\\x12\\xe3\\xdagf\\xaf2\\xe6(\\xd3f\\x06N(E\\xf1F9r>\\x87\\x82\\x7f\\x97K\\xd8\\x8f\\xc9\\x1fG\\xa0\\xf3J>\\x08\\xf2\\xf5}\\xb7\\xe2\\xcfc)\\x8c\\x00\\x00\\x00\\x00\\x00\\x00\\x00\\x00\\x00\\x00\\x00\\x00\\x00\\x00\\x05V\\xd0\\xaf\\xcb\\x87\\xb7\\xf4g\\x0b_\\xfb\\x88\\xf8\\xfe\\x8c\\xde\\xb1\\xf6\\xdf\\x81\\xcf\\xd8\\xf1\\xb2:\\x87K\\x92\\xc6\\xd4a\\xdb\\xbc\\xff\\x00\\xac\\xcfq\\xa2G\\x16P\\xf3\\xf8\\xb3\\x8fv\\xff\\x00\\x9a\\xfc\\x8d\\xe3\\xack\\x98\\x00\\xc0\\x06\\x19\\x04\\x98\\x04\\x98`\\x1c>uOv\\xbde\\xfb\\xd7\\xf7\\xa4\\xfe\\xa7\\x83\\xd4\\xe1\\xb2\\xee\\xa2]\\xf9\\xfc\\xf8\\x9e\\x8a\\xd6Y\\xa3\\x17\\xee9\\xcc\\xd7\\x1fR\\x94gF\\x9d\\xad\\x89\\xb5:\\x92\\xe6\\xa9\\xc5\\xef4\\xbb\\xf4\\xee6,k8B\\xa2]Q\\xb7\\nQ\\x9c\\xa3)~\\x1e+\\xc4\\xd8\\xcb\\xa9Y#B\\xb4\\xb2\\xcb\\xcd\\xf1,b\\x8dfad\\xe1\\x1b\\xb8\\xa5\\xabi.\\xf6Z\\x9c\\\\\\xa6\\x92\\xeaVO\\t\\xb6}\\x0e\\x8c7c\\x18\\xf5E/r>\\x93\\x08\\xed\\x8a\\x8fq\\xe5d\\xf2\\xdb&\\\\\\xa8\\x00\\x00\\x00\\x00\\x00\\x00\\x00\\x00\\x00\\x00\\x00\\x00\\x00\\x00\\n\\xcc\\xfd~\\\\}\\xbf\\xa38\\x9a\\xf2\\xff\\x00\\x8e\\xbc\\x7fFnY{o\\xc0\\xe7\\x99\\xe2\\xe4uN\\x97\\'\\xfd\\n\\x7f\\xc5\\xfd\\xa6{\\xad\\x15\\xe6\\xca\\x9f\\x9f\\xc5\\x9c{\\xaf\\xbdf\\xe9\\xd45\\xcc0I\\x80\\x00\\x06,A&\\x18$\\xe2\\xb3\\xf7|En\\xf8\\xaft\\x11\\xe1\\xb5g\\x9b\\xd9\\xf9|\\x11\\xe8,\\xd7\\xf2#\\xfe\\xf59l\\xd6\\x17\\xabG\\xbeO\\xe0b\\xa2\\xf1\\t\\x1d\\x1a\\\\\\x99i\\x86\\x8f\\x04jM\\xf11\\xc8\\xd91\\x98\\xcb}\\x97\\xc1:\\x95zF\\xbc\\x8azv\\xcf\\x92\\xfa\\xfb\\x8e\\xee\\x87g\\xdaV\\xed_(\\xfc\\x7f\\xde&\\x86\\xa3[e=\\x8b\\x9b\\xf8\\x1d\\x81\\xec\\x8e\\x08\\x00\\x00\\x00\\x00\\x00\\x00\\x00\\x00\\x00\\x00\\x00\\x00\\x00\\x00\\x00\\x05n{\\xfak\\xdb_&qu\\xdf\\xe9\\x97\\x8a6\\xec\\xbe\\xf3\\xc8\\xe7\\x99\\xe2fu\\x91\\xd1\\xe4\\xbf\\xa1\\x0e\\xf9\\x7fi\\x9e\\xe7C\\xfe\\x86\\x1e\\x7f\\x16r.\\xfe\\xf5\\xf9|\\r\\xe3\\xack\\x02\\t0\\xc9\\x06\\x00\\x04\\x03\\x0c\\x12p\\xb9\\xcf\\xeb\\xd7\\xff\\x00\\xa9#\\xc1j?\\xd5\\xd4\\xf1=%\\xb7\\xdc\\xc7\\xc0\\xe73\\x1f\\xd5\\xa3\\xfc_$V\\x97\\xb1#z\\x97\\xb2\\xcb\\\\>\\x88\\xd4\\x973\\x1c\\x8fI\\xe8U\\x15Ga\\xb2\\x7f\\xd1\\x97\\xb7/\\xa1\\xed\\xb4?\\xe9W\\x8b8\\x1a\\x97\\xdf\\xf9\"\\xe4\\xec\\x1c\\xf0\\x00\\x00\\x00\\x00\\x00\\x00\\x0f\\xff\\xd9'\n"
     ]
    }
   ],
   "source": [
    "from urllib import request\n",
    "\n",
    "_target = request.urlopen(\"data:image/jpeg;base64,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\")\n",
    "_output = _target.read()\n",
    "print(_output)\n",
    "\n",
    "_file = open(\"output.png\", \"wb\")\n",
    "_file.write(_output)\n",
    "_file.close()"
   ]
  }
 ],
 "metadata": {
  "kernelspec": {
   "display_name": "base",
   "language": "python",
   "name": "python3"
  },
  "language_info": {
   "codemirror_mode": {
    "name": "ipython",
    "version": 3
   },
   "file_extension": ".py",
   "mimetype": "text/x-python",
   "name": "python",
   "nbconvert_exporter": "python",
   "pygments_lexer": "ipython3",
   "version": "3.11.7"
  }
 },
 "nbformat": 4,
 "nbformat_minor": 2
}
