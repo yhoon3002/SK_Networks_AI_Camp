{
 "cells": [
  {
   "cell_type": "markdown",
   "metadata": {},
   "source": [
    "## 파이썬의 클래스 구조"
   ]
  },
  {
   "cell_type": "markdown",
   "metadata": {},
   "source": [
    "클래스 <br>\n",
    "객체지향 프로그래밍 <br>\n",
    "객체 <br>\n",
    "인스턴스 <br>\n",
    "추상화해서 모아둔 것을 클래스라고 한다."
   ]
  },
  {
   "cell_type": "code",
   "execution_count": 30,
   "metadata": {},
   "outputs": [
    {
     "name": "stdout",
     "output_type": "stream",
     "text": [
      "검정\n",
      "그렌저이(가) 전진합니다.\n",
      "빨강\n",
      "BMW이(가) 전진합니다.\n",
      "Static Method 출력\n"
     ]
    }
   ],
   "source": [
    "class Car:\n",
    "    _color = \"검정\" # 클래스 변수\n",
    "    _model = \"람보르기니\" # 클래스 변수\n",
    "\n",
    "    def __init__(self, model, color):\n",
    "        self.model = model # 인스턴스 변수\n",
    "        self.color = color # 인스턴스 변수\n",
    "\n",
    "    # 생성자\n",
    "    # 기능\n",
    "    def func(cls): # 클래스메서드 : 클래스안에서 데이터를 공유할 때\n",
    "        pass\n",
    "\n",
    "    def forward(self): # (인스턴스) 메서드\n",
    "        print(f\"{self.model}이(가) 전진합니다.\")\n",
    "\n",
    "    @staticmethod\n",
    "    def static_method():\n",
    "        print(\"Static Method 출력\")\n",
    "\n",
    "# 스테틱(정적) 메서드 인스턴스화하지 않고도 쓸 수 있다.\n",
    "# Car.static_method_name() = 함수 = 유틸리티성 메서드\n",
    "\n",
    "\n",
    "# 클래스를 통해서 구체화된 객체를 인스턴스라한다.\n",
    "# self는 구체화된 인스턴스 자기 자신을 가리킨다.\n",
    "\n",
    "# 클래스를 쓰려면 인스턴스화를 해야 쓸 수 있다.\n",
    "# 값과 기능을 쓸 수 있다.\n",
    "car01 = Car(\"그렌저\", \"검정\")\n",
    "print(car01.color)\n",
    "car01.forward()\n",
    "\n",
    "car02 = Car(\"BMW\", \"빨강\")\n",
    "print(car02.color)\n",
    "car02.forward()\n",
    "\n",
    "Car.static_method()\n",
    "\n",
    "# 객체들간의 상호작용으로 프로그램을 만드는 것 - 객체지향프로그래밍\n",
    "#데이터의 전달 변형가공 리턴 메모리 -> 다른객체"
   ]
  },
  {
   "cell_type": "markdown",
   "metadata": {},
   "source": [
    "## class 키워드를 사용한 클래스 정의"
   ]
  },
  {
   "cell_type": "code",
   "execution_count": 11,
   "metadata": {},
   "outputs": [
    {
     "data": {
      "text/plain": [
       "__main__.Page"
      ]
     },
     "execution_count": 11,
     "metadata": {},
     "output_type": "execute_result"
    }
   ],
   "source": [
    "class Page: # 클래스 정의\n",
    "    # 프로퍼티\n",
    "    # 생성자\n",
    "    def __init__(self, num, content):\n",
    "        self.num = num\n",
    "        self.content = content\n",
    "\n",
    "    #메서드 기능\n",
    "    def output(self):\n",
    "        return f\"{self.content}\"\n",
    "    \n",
    "Page"
   ]
  },
  {
   "cell_type": "markdown",
   "metadata": {},
   "source": [
    "## 인스턴스 만들기"
   ]
  },
  {
   "cell_type": "code",
   "execution_count": 15,
   "metadata": {},
   "outputs": [
    {
     "data": {
      "text/plain": [
       "['__class__',\n",
       " '__delattr__',\n",
       " '__dict__',\n",
       " '__dir__',\n",
       " '__doc__',\n",
       " '__eq__',\n",
       " '__format__',\n",
       " '__ge__',\n",
       " '__getattribute__',\n",
       " '__getstate__',\n",
       " '__gt__',\n",
       " '__hash__',\n",
       " '__init__',\n",
       " '__init_subclass__',\n",
       " '__le__',\n",
       " '__lt__',\n",
       " '__module__',\n",
       " '__ne__',\n",
       " '__new__',\n",
       " '__reduce__',\n",
       " '__reduce_ex__',\n",
       " '__repr__',\n",
       " '__setattr__',\n",
       " '__sizeof__',\n",
       " '__str__',\n",
       " '__subclasshook__',\n",
       " '__weakref__',\n",
       " 'content',\n",
       " 'num',\n",
       " 'output']"
      ]
     },
     "execution_count": 15,
     "metadata": {},
     "output_type": "execute_result"
    }
   ],
   "source": [
    "# 인스턴스화 \n",
    "title_page = Page(0, \"Python Practice Book\")\n",
    "\n",
    "type(title_page)\n",
    "dir(title_page)"
   ]
  },
  {
   "cell_type": "code",
   "execution_count": 17,
   "metadata": {},
   "outputs": [
    {
     "data": {
      "text/plain": [
       "True"
      ]
     },
     "execution_count": 17,
     "metadata": {},
     "output_type": "execute_result"
    }
   ],
   "source": [
    "# Page 클래스의 인스턴스인지 확인함\n",
    "# 인스턴스 - 클래스를 기반으로 만들어진 객체\n",
    "# 인스턴스 메서드 - 인스턴스에 묶인 메서드 \n",
    "isinstance(title_page, Page)"
   ]
  },
  {
   "cell_type": "code",
   "execution_count": 19,
   "metadata": {},
   "outputs": [
    {
     "data": {
      "text/plain": [
       "'Python Practice Book'"
      ]
     },
     "execution_count": 19,
     "metadata": {},
     "output_type": "execute_result"
    }
   ],
   "source": [
    "title_page.output()"
   ]
  },
  {
   "cell_type": "markdown",
   "metadata": {},
   "source": [
    "## 메서드 객체와 함수 객체"
   ]
  },
  {
   "cell_type": "code",
   "execution_count": 22,
   "metadata": {},
   "outputs": [],
   "source": [
    "class Klass:\n",
    "    def some_method(self): # 인스턴스 메서드 정의\n",
    "        print(\"method\")"
   ]
  },
  {
   "cell_type": "code",
   "execution_count": 23,
   "metadata": {},
   "outputs": [],
   "source": [
    "def some_function(self): # 같은 인수의 함수 정의\n",
    "    print(\"function\")"
   ]
  },
  {
   "cell_type": "code",
   "execution_count": 24,
   "metadata": {},
   "outputs": [
    {
     "data": {
      "text/plain": [
       "function"
      ]
     },
     "execution_count": 24,
     "metadata": {},
     "output_type": "execute_result"
    }
   ],
   "source": [
    "# 함수는 function 클래스의 인스턴스임\n",
    "type(some_function)"
   ]
  },
  {
   "cell_type": "code",
   "execution_count": 25,
   "metadata": {},
   "outputs": [
    {
     "data": {
      "text/plain": [
       "function"
      ]
     },
     "execution_count": 25,
     "metadata": {},
     "output_type": "execute_result"
    }
   ],
   "source": [
    "# 인스턴스 메서드도 function 클래스의 인스턴스\n",
    "type(Klass.some_method)"
   ]
  },
  {
   "cell_type": "code",
   "execution_count": 26,
   "metadata": {},
   "outputs": [
    {
     "data": {
      "text/plain": [
       "method"
      ]
     },
     "execution_count": 26,
     "metadata": {},
     "output_type": "execute_result"
    }
   ],
   "source": [
    "# 인스턴스를 통해 접근하면 method 클래스가 됨\n",
    "kls = Klass()\n",
    "type(kls.some_method)"
   ]
  },
  {
   "cell_type": "code",
   "execution_count": 27,
   "metadata": {},
   "outputs": [],
   "source": [
    "# 클래스 객체의 속성에 함수를 추가\n",
    "\n",
    "Klass.some_function = some_function"
   ]
  },
  {
   "cell_type": "code",
   "execution_count": 31,
   "metadata": {},
   "outputs": [
    {
     "name": "stdout",
     "output_type": "stream",
     "text": [
      "function\n"
     ]
    }
   ],
   "source": [
    "# 인스턴스 메서드로 실행\n",
    "kls.some_function()"
   ]
  },
  {
   "cell_type": "markdown",
   "metadata": {},
   "source": [
    "## 인스턴스 변수 - 인스턴스가 저장하는 변수 (보통 self랑 연관있음)"
   ]
  },
  {
   "cell_type": "code",
   "execution_count": 34,
   "metadata": {},
   "outputs": [
    {
     "data": {
      "text/plain": [
       "0"
      ]
     },
     "execution_count": 34,
     "metadata": {},
     "output_type": "execute_result"
    }
   ],
   "source": [
    "# 접근제한자\n",
    "# 직접적으로 값을 변경못하게 하기\n",
    "# 메서드를 통해서 set get(셋터 겟터)\n",
    "\n",
    "# 접근제한자 (아래로 갈수록 접근 제한 강함)\n",
    "# public : 접근 제한 없음\n",
    "# default : \n",
    "# protected\n",
    "# private\n",
    "\n",
    "# 변경이 가능\n",
    "# 필드 프라퍼티\n",
    "title_page.section = 0\n",
    "title_page.section"
   ]
  },
  {
   "cell_type": "code",
   "execution_count": 33,
   "metadata": {},
   "outputs": [
    {
     "ename": "AttributeError",
     "evalue": "'Page' object has no attribute 'section'",
     "output_type": "error",
     "traceback": [
      "\u001b[0;31m---------------------------------------------------------------------------\u001b[0m",
      "\u001b[0;31mAttributeError\u001b[0m                            Traceback (most recent call last)",
      "Cell \u001b[0;32mIn[33], line 2\u001b[0m\n\u001b[1;32m      1\u001b[0m first_page \u001b[38;5;241m=\u001b[39m Page(\u001b[38;5;241m1\u001b[39m, \u001b[38;5;124m\"\u001b[39m\u001b[38;5;124mfirst page\u001b[39m\u001b[38;5;124m\"\u001b[39m)\n\u001b[0;32m----> 2\u001b[0m first_page\u001b[38;5;241m.\u001b[39msection\n",
      "\u001b[0;31mAttributeError\u001b[0m: 'Page' object has no attribute 'section'"
     ]
    }
   ],
   "source": [
    "first_page = Page(1, \"first page\")\n",
    "first_page.section"
   ]
  },
  {
   "cell_type": "markdown",
   "metadata": {},
   "source": [
    "## 인스턴스 초기화"
   ]
  },
  {
   "cell_type": "markdown",
   "metadata": {},
   "source": [
    "### __init__() - 인스턴스 초기화를 수행하는 특수 메서드 "
   ]
  },
  {
   "cell_type": "code",
   "execution_count": 38,
   "metadata": {},
   "outputs": [],
   "source": [
    "# 클래스 정의\n",
    "class Page:\n",
    "    def __init__(self, num, content, section=None):\n",
    "        self.num = num\n",
    "        self.content = content\n",
    "        self.section = section\n",
    "    \n",
    "    def output(self):\n",
    "        return f\"{self.content}\""
   ]
  },
  {
   "cell_type": "markdown",
   "metadata": {},
   "source": [
    "### 인수를 전달해 인스턴스화 하기 "
   ]
  },
  {
   "cell_type": "code",
   "execution_count": 40,
   "metadata": {},
   "outputs": [],
   "source": [
    "title_page = Page(0, \"python practice book\")\n"
   ]
  },
  {
   "cell_type": "code",
   "execution_count": 41,
   "metadata": {},
   "outputs": [
    {
     "name": "stdout",
     "output_type": "stream",
     "text": [
      "None\n"
     ]
    }
   ],
   "source": [
    "print(title_page.section)"
   ]
  },
  {
   "cell_type": "code",
   "execution_count": 42,
   "metadata": {},
   "outputs": [
    {
     "data": {
      "text/plain": [
       "'python practice book'"
      ]
     },
     "execution_count": 42,
     "metadata": {},
     "output_type": "execute_result"
    }
   ],
   "source": [
    "title_page.output()"
   ]
  },
  {
   "cell_type": "code",
   "execution_count": 44,
   "metadata": {},
   "outputs": [],
   "source": [
    "first_page = Page(1, \"first_page\", 1)"
   ]
  },
  {
   "cell_type": "code",
   "execution_count": 45,
   "metadata": {},
   "outputs": [
    {
     "data": {
      "text/plain": [
       "1"
      ]
     },
     "execution_count": 45,
     "metadata": {},
     "output_type": "execute_result"
    }
   ],
   "source": [
    "first_page.section # section이 지정되어 있음 "
   ]
  },
  {
   "cell_type": "code",
   "execution_count": 46,
   "metadata": {},
   "outputs": [
    {
     "data": {
      "text/plain": [
       "'first_page'"
      ]
     },
     "execution_count": 46,
     "metadata": {},
     "output_type": "execute_result"
    }
   ],
   "source": [
    "first_page.output()"
   ]
  },
  {
   "cell_type": "markdown",
   "metadata": {},
   "source": [
    "## __init__()과 __new__()의 차이 - 이니셜라이저와 컨스트럭터 "
   ]
  },
  {
   "cell_type": "code",
   "execution_count": 49,
   "metadata": {},
   "outputs": [],
   "source": [
    "class Klass:\n",
    "    def __new__(cls, *args): # 컨스트럭터\n",
    "        print(f\"{cls}\")\n",
    "        print(\"new\", args)\n",
    "        # 작성한 인스턴스를 반환함\n",
    "        return super().__new__(cls)\n",
    "    \n",
    "    def __init__(self, *args): # 이니셜라이저\n",
    "        # 인스턴스 초기화는 여기에서 수행함\n",
    "        print(\"init\", args)"
   ]
  },
  {
   "cell_type": "code",
   "execution_count": 50,
   "metadata": {},
   "outputs": [
    {
     "name": "stdout",
     "output_type": "stream",
     "text": [
      "<class '__main__.Klass'>\n",
      "new (1, 2, 3)\n",
      "init (1, 2, 3)\n"
     ]
    }
   ],
   "source": [
    "# 인스턴스화\n",
    "kls = Klass(1, 2, 3)"
   ]
  },
  {
   "cell_type": "markdown",
   "metadata": {},
   "source": [
    "## __new__() 사용 시 주의점 "
   ]
  },
  {
   "cell_type": "code",
   "execution_count": 52,
   "metadata": {},
   "outputs": [],
   "source": [
    "class Evil:\n",
    "    def __new__(cls, *args):\n",
    "        return 1"
   ]
  },
  {
   "cell_type": "code",
   "execution_count": 53,
   "metadata": {},
   "outputs": [],
   "source": [
    "# Evil 클래스 인스턴스화\n",
    "evil = Evil()"
   ]
  }
 ],
 "metadata": {
  "kernelspec": {
   "display_name": "base",
   "language": "python",
   "name": "python3"
  },
  "language_info": {
   "codemirror_mode": {
    "name": "ipython",
    "version": 3
   },
   "file_extension": ".py",
   "mimetype": "text/x-python",
   "name": "python",
   "nbconvert_exporter": "python",
   "pygments_lexer": "ipython3",
   "version": "3.11.7"
  }
 },
 "nbformat": 4,
 "nbformat_minor": 2
}
